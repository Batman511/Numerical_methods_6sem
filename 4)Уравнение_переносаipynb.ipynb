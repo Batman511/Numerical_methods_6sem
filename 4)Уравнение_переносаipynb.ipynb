{
  "nbformat": 4,
  "nbformat_minor": 0,
  "metadata": {
    "colab": {
      "name": "4)Уравнение переносаipynb",
      "provenance": [],
      "collapsed_sections": [],
      "authorship_tag": "ABX9TyMJs08Ng33SD+fEzlVltXI+",
      "include_colab_link": true
    },
    "kernelspec": {
      "name": "python3",
      "display_name": "Python 3"
    },
    "language_info": {
      "name": "python"
    }
  },
  "cells": [
    {
      "cell_type": "markdown",
      "metadata": {
        "id": "view-in-github",
        "colab_type": "text"
      },
      "source": [
        "<a href=\"https://colab.research.google.com/github/Batman511/Numerical_methods_6sem/blob/main/4)%D0%A3%D1%80%D0%B0%D0%B2%D0%BD%D0%B5%D0%BD%D0%B8%D0%B5_%D0%BF%D0%B5%D1%80%D0%B5%D0%BD%D0%BE%D1%81%D0%B0ipynb.ipynb\" target=\"_parent\"><img src=\"https://colab.research.google.com/assets/colab-badge.svg\" alt=\"Open In Colab\"/></a>"
      ]
    },
    {
      "cell_type": "code",
      "execution_count": null,
      "metadata": {
        "id": "FC6WvoXh8KvV"
      },
      "outputs": [],
      "source": [
        "import numpy as np\n",
        "import matplotlib.pyplot as plt\n",
        "from matplotlib.animation import FuncAnimation, PillowWriter"
      ]
    },
    {
      "cell_type": "markdown",
      "source": [
        "## Линейный перенос"
      ],
      "metadata": {
        "id": "q6Pr1Ar28eWm"
      }
    },
    {
      "cell_type": "code",
      "source": [
        "f = lambda u,koef_a: koef_a * u\n",
        "a = lambda u,koef_a: koef_a\n",
        "phi = lambda x: np.heaviside(x - 1, 1) * np.heaviside(2 - x, 1)\n",
        "\n",
        "def next_line(u, x_range, h, tau, const):\n",
        "    line = np.zeros(len(x_range))\n",
        "    for i in range(1, len(x_range) - 1):\n",
        "        line[i] = 1/2 *(u[i+1] + u[i-1]) - tau/(2*h) * (f(u[i+1], const) - f(u[i-1], const))\n",
        "        \n",
        "    return line"
      ],
      "metadata": {
        "id": "K5OihPkD8RAG"
      },
      "execution_count": null,
      "outputs": []
    },
    {
      "cell_type": "code",
      "source": [
        "xmin = 0\n",
        "xmax = 10\n",
        "koef_a = 2\n",
        "h = 0.01\n",
        "\n",
        "# C должно быть <= 1\n",
        "C = 0.9\n",
        "tau = (C * h) / koef_a\n",
        "\n",
        "xn = np.arange(xmin, xmax + h, h)\n",
        "u1 = phi(xn)\n",
        "u2 = next_line(u1, xn, h, tau, koef_a)\n",
        "\n",
        "# гиф\n",
        "def init():\n",
        "    line.set_data([], [])\n",
        "    return line,\n",
        "\n",
        "def animate(i):\n",
        "    global u1,u2\n",
        "    if i == 0:\n",
        "        y = u1\n",
        "    elif i == 1:\n",
        "        y = u2\n",
        "    else:\n",
        "        u1 = np.copy(u2)\n",
        "        tau = (C * h) / koef_a\n",
        "        u2 = next_line(u1, xn, h, tau, koef_a)\n",
        "        y = u2\n",
        "\n",
        "    line.set_data(xn, y)\n",
        "    return line,"
      ],
      "metadata": {
        "id": "y2Y8Rxrh8X0b"
      },
      "execution_count": null,
      "outputs": []
    },
    {
      "cell_type": "code",
      "source": [
        "fig = plt.figure(figsize=(10,5))\n",
        "ax = plt.axes(xlim=(0, 10), ylim=(-2, 2))\n",
        "ax.grid(True)\n",
        "line, = ax.plot([], [], color = 'pink')\n",
        "\n",
        "anim1 = FuncAnimation(fig, animate, init_func=init,\n",
        "                      frames=100, interval=50, blit=True)\n",
        "\n",
        "anim1.save('wave_1.gif', writer='pillow')  "
      ],
      "metadata": {
        "colab": {
          "base_uri": "https://localhost:8080/",
          "height": 324
        },
        "id": "hm6nDs0yeoLo",
        "outputId": "84a8bedc-7adc-4384-daed-1abae75b6bc4"
      },
      "execution_count": null,
      "outputs": [
        {
          "output_type": "display_data",
          "data": {
            "text/plain": [
              "<Figure size 720x360 with 1 Axes>"
            ],
            "image/png": "[encoded data removed]"
          },
          "metadata": {
            "needs_background": "light"
          }
        }
      ]
    },
    {
      "cell_type": "markdown",
      "source": [
        "## Нелинейный перенос с разрывом"
      ],
      "metadata": {
        "id": "phAlHOvP8haY"
      }
    },
    {
      "cell_type": "code",
      "source": [
        "f = lambda u,koef_a: u**2/2\n",
        "a = lambda u,koef_a: u\n",
        "phi = lambda x: (np.sin(np.pi*x/2))**2 * np.heaviside(x, 1)*np.heaviside(2 - x, 1)\n",
        "\n",
        "#проще запускать заново целый блок\n",
        "def next_line(u, x_range, h, tau, const):\n",
        "    line = np.zeros(len(x_range))\n",
        "    for i in range(1, len(x_range) - 1):\n",
        "        line[i] = 1/2 *(u[i+1] + u[i-1]) - tau/(2*h) * (f(u[i+1], const) - f(u[i-1], const))\n",
        "        \n",
        "    return line"
      ],
      "metadata": {
        "id": "MkQrLeb58hwk"
      },
      "execution_count": null,
      "outputs": []
    },
    {
      "cell_type": "code",
      "source": [
        "xmin = 0\n",
        "xmax = 10\n",
        "koef_a = 2\n",
        "h = 0.01\n",
        "\n",
        "# C должно быть <= 1\n",
        "C = 0.9\n",
        "\n",
        "xn = np.arange(xmin, xmax + h, h)\n",
        "u3 = phi(xn)\n",
        "\n",
        "tau = (C * h) / max(a(u3,koef_a))\n",
        "u4 = next_line(u3, xn, h, tau, koef_a)\n",
        "\n",
        "def init():\n",
        "    line.set_data([], [])\n",
        "    return line,\n",
        "\n",
        "def animate(i):\n",
        "    global u3,u4\n",
        "    if i == 0:\n",
        "        y = u3\n",
        "    elif i == 1:\n",
        "        y = u4\n",
        "    else:\n",
        "        u3 = np.copy(u4)\n",
        "        tau = (C * h) / max(a(u3,koef_a))\n",
        "        u4 = next_line(u3, xn, h, tau, koef_a)\n",
        "        y = u4\n",
        "\n",
        "    line.set_data(xn, y)\n",
        "    return line,"
      ],
      "metadata": {
        "id": "Ftw3uGW08oxf"
      },
      "execution_count": null,
      "outputs": []
    },
    {
      "cell_type": "code",
      "source": [
        "fig = plt.figure(figsize=(10,5))\n",
        "ax = plt.axes(xlim=(0, 10), ylim=(-3, 3))\n",
        "ax.grid(True)\n",
        "line, = ax.plot([], [], color = 'pink')\n",
        "\n",
        "\n",
        "anim1 = FuncAnimation(fig, animate, init_func=init,\n",
        "                      frames=100, interval=50, blit=True)\n",
        "\n",
        "anim1.save('wave_2.gif', writer='pillow')"
      ],
      "metadata": {
        "colab": {
          "base_uri": "https://localhost:8080/",
          "height": 324
        },
        "id": "qJJJwJjez3Bd",
        "outputId": "9f3a1beb-80fb-45d8-d5c2-7dcf28f789b4"
      },
      "execution_count": null,
      "outputs": [
        {
          "output_type": "display_data",
          "data": {
            "text/plain": [
              "<Figure size 720x360 with 1 Axes>"
            ],
            "image/png": "[encoded data removed]"
          },
          "metadata": {
            "needs_background": "light"
          }
        }
      ]
    }
  ]
}