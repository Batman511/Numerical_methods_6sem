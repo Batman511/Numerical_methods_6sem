{
  "nbformat": 4,
  "nbformat_minor": 0,
  "metadata": {
    "colab": {
      "name": "3)Нелинейная теплопроводность.ipynb",
      "provenance": [],
      "collapsed_sections": [],
      "authorship_tag": "ABX9TyOczzm5c5j7iWtkErTRnaMC",
      "include_colab_link": true
    },
    "kernelspec": {
      "name": "python3",
      "display_name": "Python 3"
    },
    "language_info": {
      "name": "python"
    }
  },
  "cells": [
    {
      "cell_type": "markdown",
      "metadata": {
        "id": "view-in-github",
        "colab_type": "text"
      },
      "source": [
        "<a href=\"https://colab.research.google.com/github/Batman511/Numerical_methods_6sem/blob/main/3)%D0%9D%D0%B5%D0%BB%D0%B8%D0%BD%D0%B5%D0%B9%D0%BD%D0%B0%D1%8F_%D1%82%D0%B5%D0%BF%D0%BB%D0%BE%D0%BF%D1%80%D0%BE%D0%B2%D0%BE%D0%B4%D0%BD%D0%BE%D1%81%D1%82%D1%8C.ipynb\" target=\"_parent\"><img src=\"https://colab.research.google.com/assets/colab-badge.svg\" alt=\"Open In Colab\"/></a>"
      ]
    },
    {
      "cell_type": "code",
      "execution_count": null,
      "metadata": {
        "id": "EgH8lStR6kGP"
      },
      "outputs": [],
      "source": [
        "import numpy as np\n",
        "import matplotlib.pyplot as plt\n",
        "import math\n",
        "from matplotlib.animation import FuncAnimation, PillowWriter"
      ]
    },
    {
      "cell_type": "code",
      "source": [
        "n, k, m = 1, -1/3, -1/3\n",
        "hi = 1\n",
        "u_0 = 1.25\n",
        "\n",
        "a0 = 0\n",
        "b0 = 1\n",
        "a1 = 0\n",
        "b1 = 1\n",
        "\n",
        "h = 0.01\n",
        "tau = 0.01\n",
        "xmin = 0\n",
        "xmax = 5\n",
        "\n",
        "alpha = lambda n: np.sqrt(2*(n+2)/n)\n",
        "f = lambda x: n/(2*(n+2)) * ((alpha(n))**2 - x**2)\n",
        "gamma_l = lambda t: u_0 * t**k\n",
        "gamma_r = lambda t: 0\n",
        "lmbd = lambda uu: uu**n\n",
        "\n",
        "def u(x,t):\n",
        "    if (x >= 0) and (x < alpha(n) * math.sqrt(hi * u_0**n * t** (k*n+1))):\n",
        "        return u_0 * t**k * (f(x / math.sqrt((hi * u_0**n * t**(k*n+1))))) **(1/n)\n",
        "    else:\n",
        "        return 0"
      ],
      "metadata": {
        "id": "f-cKveaW6lrz"
      },
      "execution_count": null,
      "outputs": []
    },
    {
      "cell_type": "markdown",
      "source": [
        "Прогонка"
      ],
      "metadata": {
        "id": "FMj2yan0-Tri"
      }
    },
    {
      "cell_type": "code",
      "source": [
        "def Progonka(a, b, c, f):\n",
        "#-------------------Прямой ход-------------------------------\n",
        "    LENGTH = len(a) - 1\n",
        "\n",
        "    A = np.zeros(len(a))\n",
        "    B = np.zeros(len(a))\n",
        "\n",
        "    A[0] = -c[0] / b[0]\n",
        "    B[0] = f[0] / b[0]\n",
        "\n",
        "    for i in range(1, LENGTH):\n",
        "        A[i] = -c[i] / (b[i] + a[i]*A[i-1])\n",
        "    for i in range(1, LENGTH):\n",
        "        B[i] = (f[i] - a[i]*B[i-1]) / (b[i] + a[i]*A[i-1])\n",
        "\n",
        "    A[-1] = 0\n",
        "    B[-1] = (f[-1] - a[-1]*B[-2]) / (b[-1] + a[-1]*A[-2])\n",
        "\n",
        "#-------------------Обратный ход-----------------------------\n",
        "    y = np.zeros(len(a))\n",
        "    y[-1] = B[-1]\n",
        "    for i in range(LENGTH - 1, -1, -1):\n",
        "        y[i] = B[i] + A[i]*y[i+1]\n",
        "\n",
        "    return y    "
      ],
      "metadata": {
        "id": "ygudwpFC-LsE"
      },
      "execution_count": null,
      "outputs": []
    },
    {
      "cell_type": "code",
      "source": [
        "def next_line_1(prev, next, tau, step, xk, h):\n",
        "    a = np.zeros(len(xk))\n",
        "    b = np.zeros(len(xk))\n",
        "    c = np.zeros(len(xk))\n",
        "    d = np.zeros(len(xk))\n",
        "\n",
        "    d[0] = gamma_l(step*tau)\n",
        "    d[-1] = gamma_r(step*tau)\n",
        "\n",
        "    b[0] = -(a0/h) + b0\n",
        "    c[0] = a0/h\n",
        "\n",
        "    b[-1] = (a1 / h) + b1\n",
        "    a[-1] = -a1/h\n",
        "\n",
        "    for i in range(1, len(xk)-1):\n",
        "        a[i] = tau/(2*h**2) * (lmbd(next[i]) + lmbd(next[i - 1]))\n",
        "        b[i] = - tau/(2*h**2) * (2*lmbd(next[i]) + lmbd(next[i - 1]) + lmbd(next[i + 1])) - 1\n",
        "        c[i] = tau/(2*h**2) * (lmbd(next[i]) + lmbd(next[i + 1]))\n",
        "        d[i] = - prev[i]\n",
        "\n",
        "    return Progonka(a,b,c,d)  "
      ],
      "metadata": {
        "id": "LKGzfMnn-VzX"
      },
      "execution_count": null,
      "outputs": []
    },
    {
      "cell_type": "code",
      "source": [
        "x_range = np.arange(xmin, xmax + h, h)\n",
        "u1 = np.zeros((2, len(x_range)))\n",
        "err = np.zeros(len(x_range))\n",
        "u1[0] = [u(x_range[j], 0) for j in range(len(x_range))]\n",
        "\n",
        "for step in range(1, len(x_range)):\n",
        "    u1[0] = u1[1].copy()\n",
        "    u1[1] = next_line_1(u1[0], u1[1], tau, step, x_range, h)\n",
        "\n",
        "y = u1[1]"
      ],
      "metadata": {
        "id": "8wbr5_LbA4fk"
      },
      "execution_count": null,
      "outputs": []
    },
    {
      "cell_type": "code",
      "source": [
        "fig = plt.figure(figsize=(10,5))\n",
        "u2 = np.zeros((2, len(x_range)))\n",
        "\n",
        "ax = plt.axes(xlim=(xmin-1, xmax), ylim=(-0.5, 3))\n",
        "ax.grid(True)\n",
        "line1, = ax.plot([], [], label=\"Численное решение\", color = 'green' )\n",
        "line2, = ax.plot([], [],  label=\"Аналитическое решение\", color = 'red')\n",
        "line1.set_data([], [])\n",
        "line2.set_data([], [])\n",
        "ax.legend(loc='lower right')\n",
        "\n",
        "def animate(i):\n",
        "    yreal = np.zeros(len(x_range))\n",
        "    if (i == 0 or i == 1):\n",
        "        y = u2[i]\n",
        "        for j in range(len(x_range)):\n",
        "            yreal[j] = u(x_range[j], i * tau)\n",
        "    else:\n",
        "        u2[0] = np.copy(u2[1])\n",
        "        for j in range(50):\n",
        "            u2[1] = next_line_1(u2[0], u2[1], tau, i, x_range, h)\n",
        "        y = u2[1]\n",
        "        for j in range(len(x_range)):\n",
        "            yreal[j] = u(x_range[j], i * tau)\n",
        "\n",
        "    line1.set_data(x_range, y)\n",
        "    line2.set_data(x_range, yreal)\n",
        "    return line2, line1\n",
        "\n",
        "anim1 = FuncAnimation(fig, animate,\n",
        "                     frames= 100, interval=100, blit=True)\n",
        "anim1.save('nteplo.gif',  writer='pillow')"
      ],
      "metadata": {
        "colab": {
          "base_uri": "https://localhost:8080/",
          "height": 324
        },
        "id": "-idp32tPLnrA",
        "outputId": "6b8cd939-2385-432f-9c59-34450341f636"
      },
      "execution_count": 30,
      "outputs": [
        {
          "output_type": "display_data",
          "data": {
            "text/plain": [
              "<Figure size 720x360 with 1 Axes>"
            ],
            "image/png": "[encoded data removed]"
          },
          "metadata": {
            "needs_background": "light"
          }
        }
      ]
    }
  ]
}